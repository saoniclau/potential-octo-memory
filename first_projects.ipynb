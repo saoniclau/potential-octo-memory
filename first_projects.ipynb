{
  "cells": [
    {
      "cell_type": "markdown",
      "metadata": {
        "id": "view-in-github",
        "colab_type": "text"
      },
      "source": [
        "<a href=\"https://colab.research.google.com/github/saoniclau/potential-octo-memory/blob/main/first_projects.ipynb\" target=\"_parent\"><img src=\"https://colab.research.google.com/assets/colab-badge.svg\" alt=\"Open In Colab\"/></a>"
      ]
    },
    {
      "cell_type": "code",
      "execution_count": null,
      "metadata": {
        "colab": {
          "base_uri": "https://localhost:8080/"
        },
        "id": "3Ox8ZYFlk7vw",
        "outputId": "a5ac947e-0b5b-433b-dba6-8852ea5f51e1"
      },
      "outputs": [
        {
          "name": "stdout",
          "output_type": "stream",
          "text": [
            "a\n"
          ]
        }
      ],
      "source": [
        "print(\"a\")\n"
      ]
    },
    {
      "cell_type": "code",
      "execution_count": null,
      "metadata": {
        "id": "eDCt2BCWox27"
      },
      "outputs": [],
      "source": []
    },
    {
      "cell_type": "markdown",
      "metadata": {
        "id": "IYBY2KDirLfz"
      },
      "source": [
        "# New Section\n",
        "set up proportion\n",
        "(x1/y1) = (x2/y2)"
      ]
    },
    {
      "cell_type": "code",
      "execution_count": null,
      "metadata": {
        "colab": {
          "base_uri": "https://localhost:8080/"
        },
        "id": "J8r8LuA6rSNR",
        "outputId": "6cc5a207-716b-4a18-8871-2c1ffe0bab19"
      },
      "outputs": [
        {
          "name": "stdout",
          "output_type": "stream",
          "text": [
            "y = 10.0\n"
          ]
        }
      ],
      "source": [
        "#put a zero for the unknown value\n",
        "n1 = 1\n",
        "d1 = 2\n",
        "n2 = 5\n",
        "d2 = 0\n",
        "#first fraction\n",
        "x = n2\n",
        "y = d2\n",
        "\n",
        "x2 = n1\n",
        "y2 = d1\n",
        "\n",
        "if n2==0:\n",
        "    answer = d2 * n1 / d1\n",
        "    print(\"x =\", answer)\n",
        "\n",
        "\n",
        "if d2==0:\n",
        "    answer = n2 * d1 / n1\n",
        "    print(\"y =\", answer)"
      ]
    },
    {
      "cell_type": "markdown",
      "metadata": {
        "id": "1vs4Y-2GFtxa"
      },
      "source": [
        "ex.1"
      ]
    },
    {
      "cell_type": "code",
      "execution_count": null,
      "metadata": {
        "colab": {
          "base_uri": "https://localhost:8080/"
        },
        "id": "SziSre_PGA7G",
        "outputId": "ff5bafe3-25b8-4fea-a266-5700b966ccdd"
      },
      "outputs": [
        {
          "name": "stdout",
          "output_type": "stream",
          "text": [
            "-1.2000000000000002\n"
          ]
        }
      ],
      "source": [
        "print(1+3/3+3+4/5-7)"
      ]
    },
    {
      "cell_type": "markdown",
      "metadata": {
        "id": "UuvvRiS0GnY9"
      },
      "source": [
        "ex.2"
      ]
    },
    {
      "cell_type": "markdown",
      "metadata": {
        "id": "bLv6_G6u9EvR"
      },
      "source": [
        "# New Section"
      ]
    },
    {
      "cell_type": "markdown",
      "metadata": {
        "id": "n6oicaVr95CL"
      },
      "source": [
        "# Python Calculator"
      ]
    },
    {
      "cell_type": "code",
      "execution_count": null,
      "metadata": {
        "colab": {
          "base_uri": "https://localhost:8080/"
        },
        "id": "OK6bC2DRJXG8",
        "outputId": "eeff1fa4-1ed8-492c-ce33-fd8e17cc3e23"
      },
      "outputs": [
        {
          "name": "stdout",
          "output_type": "stream",
          "text": [
            "Nicholas's Python Calculator\n",
            "Enter first number here: 6\n",
            "Enter the operation (+,-,*,/): -\n",
            "Enter second number: 6\n",
            "0.0\n"
          ]
        }
      ],
      "source": [
        "print(\"Nicholas's Python Calculator\")\n",
        "# this calculator has 6 basic functions\n",
        "# 3 user inputs, num1 num2 and operation\n",
        "number_one = float(input(\"Enter first number here: \"))\n",
        "operation = input(\"Enter the operation (+,-,*,/): \")\n",
        "number_two = float(input(\"Enter second number: \"))\n",
        "\n",
        "\n",
        "#conditional statements after inputs are made\n",
        "\n",
        "if operation == '+':\n",
        "  print(number_one + number_two)\n",
        "elif operation == '-':\n",
        "  print(number_one - number_two)\n",
        "elif operation == '*':\n",
        "  print(number_one * number_two)\n",
        "elif operation == '/':\n",
        "  print(number_one / number_two)\n",
        "else: print(\"bad operater value\")"
      ]
    },
    {
      "cell_type": "markdown",
      "metadata": {
        "id": "Qyrk5a8blx_z"
      },
      "source": [
        "# rock paper scissors"
      ]
    },
    {
      "cell_type": "code",
      "execution_count": null,
      "metadata": {
        "id": "f3sn-diCmgox"
      },
      "outputs": [],
      "source": [
        "import random\n",
        "\n",
        "user_wins = 0\n",
        "computer_wins = 0\n",
        "\n",
        "options = [\"rock\", \"paper\", \"scissors\"]\n",
        "print(\"Nick's Rock, Paper, Scissors game\")\n",
        "while True:\n",
        "\n",
        "  user_input = input(\"type Rock/Paper/Scissors or Q to quit: \").lower()\n",
        "  if user_input == \"q\":\n",
        "   break\n",
        "\n",
        "  if user_input not in options:\n",
        "    continue\n",
        "\n",
        "  random_number = random.randint(0, 2)\n",
        "  # rock: 0, paper: 1, scissors: 2\n",
        "  computer_pick = options[random_number]\n",
        "  print(\"computer picked...\", computer_pick + \".\")\n",
        "\n",
        "  if user_input == \"rock\" and computer_pick == \"scissors\":\n",
        "    print(\"you win! here, have a cookie (#) \")\n",
        "    user_wins += 1\n",
        "\n",
        "  elif user_input == \"paper\" and computer_pick == \"rock\":\n",
        "    print(\"you win! your mother would be proud!!\")\n",
        "    user_wins += 1\n",
        "\n",
        "  elif user_input == \"scissors\" and computer_pick == \"paper\":\n",
        "    print(\"you win! fantastical!!\")\n",
        "    user_wins += 1\n",
        "\n",
        "  elif user_input == \"rock\" and computer_pick == \"rock\":\n",
        "    print(\"tie\")\n",
        "    user_wins += 0\n",
        "\n",
        "  elif user_input == \"paper\" and computer_pick == \"paper\":\n",
        "    print(\"tie, try again\")\n",
        "    user_wins += 0\n",
        "\n",
        "  elif user_input == \"scissors\" and computer_pick == \"scissors\":\n",
        "    print(\"tie, run it back\")\n",
        "    user_wins += 0\n",
        "\n",
        "  else:\n",
        "    print(\"you lost! loser!!\")\n",
        "    computer_wins += 1\n",
        "\n",
        "\n",
        "print(\"you won \", user_wins, \"games\")\n",
        "print(\"Quitting is for Cowards! play again\")"
      ]
    },
    {
      "cell_type": "markdown",
      "source": [
        "# text-based Slot Machine\n"
      ],
      "metadata": {
        "id": "tuZv6KQbf82Y"
      }
    },
    {
      "cell_type": "code",
      "source": [
        "from re import M\n",
        "import random\n",
        "\n",
        "#global constants\n",
        "MAX_LINES = 3\n",
        "MAX_BET = 100\n",
        "MIN_BET = 1\n",
        "\n",
        "#slot machine layout\n",
        "  #rows = reel count\n",
        "  #cols = number of symbols on each real\n",
        "ROWS = 3\n",
        "COLS = 3\n",
        "\n",
        "# dictionary- so after importing the \"random\" module at the top\n",
        "  #we are making a Dictionary so that we know how many of each symbol\n",
        "  #are in a reel\n",
        "symbol_count = {\n",
        "    \"A\": 2,\n",
        "    \"B\": 4,\n",
        "    \"C\": 6,\n",
        "    \"D\": 8\n",
        "}\n",
        "\n",
        "#this function generates the symbols imported from \"symbol_count\"\n",
        "def get_slot_machine_spin(rows, cols, symbols):\n",
        "  all_symbols = []\n",
        "  for symbol, symbol_count in symbols.items():\n",
        "   # when you use .items you get both the key and the value associated with a dictionary\n",
        "    for _ in range(symbol_count):\n",
        "      all_symbols.append(symbol)\n",
        "\n",
        "#here we define the columns\n",
        "  columns = []\n",
        "  #and telling the program for every value in the range of \"cols\" which is 3, run this loop. so it'll run 3 times\n",
        "  for _ in range(cols):\n",
        "    #\n",
        "    column = []\n",
        "    current_symbols = all_symbols[:]\n",
        "    #[:] is called the slice operater and is used to make a copy of a list instead of a reference\n",
        "    for _ in range(rows):\n",
        "      value = random.choice(current_symbols)\n",
        "      current_symbols.remove(value)\n",
        "      column.append(value)\n",
        "\n",
        "    columns.append(column)\n",
        "\n",
        "def print_slot_machine(columns):\n",
        " for row in range(len(columns[0])):\n",
        "    #basically for every row, loop every column\n",
        "  for i, column in enumerate(columns):\n",
        "    if i != len(columns) - 1:\n",
        "      print(column[row], \"|\")\n",
        "    else:\n",
        "      print(column[row])\n",
        "\n",
        "\n",
        "#the amount of money deposited\n",
        "def deposit():\n",
        "  while True:\n",
        "    amount = input(\"What would you like to deposit? $\")\n",
        "    if amount.isdigit():\n",
        "      amount = int(amount)\n",
        "      if amount > 0:\n",
        "        break\n",
        "      else:\n",
        "        print(\"The amount of your deposit must be greater than 0.\")\n",
        "    else:\n",
        "      print(\"Please enter a number.\")\n",
        "  return amount\n",
        "\n",
        "#the number of lines of matching symbols that you are betting on winning\n",
        "def get_number_of_lines():\n",
        "  while True:\n",
        "    lines = input(\"enter the number of lines to bet on (1-\" + str(MAX_LINES) + \")? \")\n",
        "    if lines.isdigit():\n",
        "      lines = int(lines)\n",
        "      if 1 <= lines <= MAX_LINES:\n",
        "        break\n",
        "      else:\n",
        "        print(\"The amount of your deposit must be greater than 0 and less than \" + str(MAX_LINES) + \".\")\n",
        "    else:\n",
        "      print(\"Please enter a number.\")\n",
        "  return lines\n",
        "\n",
        "#the amount of money that you are betting from your amount\n",
        "def get_bet():\n",
        "  while True:\n",
        "    amount = input(\"How much are you willing to bet on each line (1-\" + str(MAX_BET) + \")? $\")\n",
        "    if amount.isdigit():\n",
        "      amount = int(amount)\n",
        "      if MIN_BET <= amount <= MAX_BET:\n",
        "        break\n",
        "      else:\n",
        "        print(\"The amount of your deposit must be between {minb} and {maxb}.\".format(minb = MIN_BET, maxb = MAX_BET) )\n",
        "    else:\n",
        "      print(\"Enter a number, dumbass.\")\n",
        "  return amount\n",
        "\n",
        "# all of the functions of the program grouped together get put in the main so\n",
        "  #that you can make it easy to run altogether instead of telling the machine\n",
        "  #to do it individually\n",
        "\n",
        "def main():\n",
        "  balance = deposit()\n",
        "  lines = get_number_of_lines()\n",
        "  while True:\n",
        "    bet = get_bet()\n",
        "    total_bet = bet * lines\n",
        "    if total_bet > balance:\n",
        "      print(\"you do not have enough to bet that amount, your current balance is: ${balance}\".format(balance = balance))\n",
        "    else:\n",
        "\n",
        "      break\n",
        "  print(\"you are betting $ {bet} on {lines} lines. total bet is equal to: ${totalb} \".format(bet = bet, lines = lines, totalb = total_bet))\n",
        "\n",
        "  slots = get_slot_machine_spin(ROWS, COLS, symbol_count)\n",
        "\n",
        "  print(balance, lines, bet)\n",
        "\n",
        "main()"
      ],
      "metadata": {
        "colab": {
          "base_uri": "https://localhost:8080/"
        },
        "id": "4WgyT7ncgObB",
        "outputId": "a101baac-c732-4f60-bf61-8a448fde2655"
      },
      "execution_count": null,
      "outputs": [
        {
          "output_type": "stream",
          "name": "stdout",
          "text": [
            "What would you like to deposit? $25\n",
            "enter the number of lines to bet on (1-3)? 2\n",
            "How much are you willing to bet on each line (1-100)? $10\n",
            "you are betting $ 10 on 2 lines. total bet iss equal to: $20 \n",
            "25 2 10\n"
          ]
        }
      ]
    },
    {
      "cell_type": "code",
      "source": [
        "from re import M\n",
        "import random\n",
        "\n",
        "#global constants\n",
        "MAX_LINES = 3\n",
        "MAX_BET = 100\n",
        "MIN_BET = 1\n",
        "\n",
        "#slot machine layout\n",
        "  #rows = reel count\n",
        "  #cols = number of symbols on each real\n",
        "ROWS = 3\n",
        "COLS = 3\n",
        "\n",
        "# dictionary- so after importing the \"random\" module at the top\n",
        "  #we are making a Dictionary so that we know how many of each symbol\n",
        "  #are in a reel\n",
        "symbol_count = {\n",
        "    \"A\": 2,\n",
        "    \"B\": 4,\n",
        "    \"C\": 6,\n",
        "    \"D\": 8\n",
        "}\n",
        "\n",
        "#this function generates the symbols imported from \"symbol_count\"\n",
        "def get_slot_machine_spin(rows, cols, symbols):\n",
        "  all_symbols = []\n",
        "  for symbol, symbol_count in symbols.items():\n",
        "   # when you use .items you get both the key and the value associated with a dictionary\n",
        "    for _ in range(symbol_count):\n",
        "      all_symbols.append(symbol)\n",
        "\n",
        "#here we define the columns\n",
        "  columns = []\n",
        "  #and telling the program for every value in the range of \"cols\" which is 3, run this loop. so it'll run 3 times\n",
        "  for _ in range(cols):\n",
        "    #\n",
        "    column = []\n",
        "    current_symbols = all_symbols[:]\n",
        "    #[:] is called the slice operater and is used to make a copy of a list instead of a reference\n",
        "    for _ in range(rows):\n",
        "      value = random.choice(current_symbols)\n",
        "      current_symbols.remove(value)\n",
        "      column.append(value)\n",
        "\n",
        "    columns.append(column)\n",
        "\n",
        "def print_slot_machine(columns):\n",
        " for row in range(len(columns[0])):\n",
        "  for i, column in enumerate(columns):\n",
        "    if i != len(columns) - 1:\n",
        "      print(column[row], end=\"|\")\n",
        "    else:\n",
        "      print(column[row], end=\"\")\n",
        "\n",
        "\n",
        "#the amount of money deposited\n",
        "def deposit():\n",
        "  while True:\n",
        "    amount = input(\"What would you like to deposit? $\")\n",
        "    if amount.isdigit():\n",
        "      amount = int(amount)\n",
        "      if amount > 0:\n",
        "        break\n",
        "      else:\n",
        "        print(\"The amount of your deposit must be greater than 0.\")\n",
        "    else:\n",
        "      print(\"Please enter a number.\")\n",
        "  return amount\n",
        "\n",
        "#the number of lines of matching symbols that you are betting on winning\n",
        "def get_number_of_lines():\n",
        "  while True:\n",
        "    lines = input(\"enter the number of lines to bet on (1-\" + str(MAX_LINES) + \")? \")\n",
        "    if lines.isdigit():\n",
        "      lines = int(lines)\n",
        "      if 1 <= lines <= MAX_LINES:\n",
        "        break\n",
        "      else:\n",
        "        print(\"The amount of your deposit must be greater than 0 and less than \" + str(MAX_LINES) + \".\")\n",
        "    else:\n",
        "      print(\"Please enter a number.\")\n",
        "  return lines\n",
        "\n",
        "#the amount of money that you are betting from your amount\n",
        "def get_bet():\n",
        "  while True:\n",
        "    amount = input(\"How much are you willing to bet on each line (1-\" + str(MAX_BET) + \")? $\")\n",
        "    if amount.isdigit():\n",
        "      amount = int(amount)\n",
        "      if MIN_BET <= amount <= MAX_BET:\n",
        "        break\n",
        "      else:\n",
        "        print(\"The amount of your deposit must be between {minb} and {maxb}.\".format(minb = MIN_BET, maxb = MAX_BET) )\n",
        "    else:\n",
        "      print(\"Enter a number, dumbass.\")\n",
        "  return amount\n",
        "\n",
        "# all of the functions of the program grouped together get put in the main so\n",
        "  #that you can make it easy to run altogether instead of telling the machine\n",
        "  #to do it individually\n",
        "\n",
        "def main():\n",
        "  balance = deposit()\n",
        "  lines = get_number_of_lines()\n",
        "  while True:\n",
        "    bet = get_bet()\n",
        "    total_bet = bet * lines\n",
        "    if total_bet > balance:\n",
        "      print(\"you do not have enough to bet that amount, your current balance is: ${balance}\".format(balance = balance))\n",
        "    else:\n",
        "      break\n",
        "  print(\"you are betting $ {bet} on {lines} lines. total bet is equal to: ${totalb} \".format(bet = bet, lines = lines, totalb = total_bet))\n",
        "\n",
        "\n",
        "  slots = get_slot_machine_spin(ROWS, COLS, symbol_count)\n",
        "  print_slot_machine(slots)\n",
        "  print(balance, lines, bet,)\n",
        "\n",
        "main()"
      ],
      "metadata": {
        "colab": {
          "base_uri": "https://localhost:8080/",
          "height": 460
        },
        "outputId": "a48ede34-becc-4707-b6ab-022c0d4187c4",
        "id": "IBCCQADVgxmI"
      },
      "execution_count": null,
      "outputs": [
        {
          "output_type": "stream",
          "name": "stdout",
          "text": [
            "What would you like to deposit? $50\n",
            "enter the number of lines to bet on (1-3)? 2\n",
            "How much are you willing to bet on each line (1-100)? $50\n",
            "you do not have enough to bet that amount, your current balance is: $50\n",
            "How much are you willing to bet on each line (1-100)? $10\n",
            "you are betting $ 10 on 2 lines. total bet is equal to: $20 \n"
          ]
        },
        {
          "output_type": "error",
          "ename": "TypeError",
          "evalue": "ignored",
          "traceback": [
            "\u001b[0;31m---------------------------------------------------------------------------\u001b[0m",
            "\u001b[0;31mTypeError\u001b[0m                                 Traceback (most recent call last)",
            "\u001b[0;32m<ipython-input-18-6f5abac92453>\u001b[0m in \u001b[0;36m<cell line: 120>\u001b[0;34m()\u001b[0m\n\u001b[1;32m    118\u001b[0m   \u001b[0mprint\u001b[0m\u001b[0;34m(\u001b[0m\u001b[0mbalance\u001b[0m\u001b[0;34m,\u001b[0m \u001b[0mlines\u001b[0m\u001b[0;34m,\u001b[0m \u001b[0mbet\u001b[0m\u001b[0;34m,\u001b[0m\u001b[0;34m)\u001b[0m\u001b[0;34m\u001b[0m\u001b[0;34m\u001b[0m\u001b[0m\n\u001b[1;32m    119\u001b[0m \u001b[0;34m\u001b[0m\u001b[0m\n\u001b[0;32m--> 120\u001b[0;31m \u001b[0mmain\u001b[0m\u001b[0;34m(\u001b[0m\u001b[0;34m)\u001b[0m\u001b[0;34m\u001b[0m\u001b[0;34m\u001b[0m\u001b[0m\n\u001b[0m",
            "\u001b[0;32m<ipython-input-18-6f5abac92453>\u001b[0m in \u001b[0;36mmain\u001b[0;34m()\u001b[0m\n\u001b[1;32m    115\u001b[0m \u001b[0;34m\u001b[0m\u001b[0m\n\u001b[1;32m    116\u001b[0m   \u001b[0mslots\u001b[0m \u001b[0;34m=\u001b[0m \u001b[0mget_slot_machine_spin\u001b[0m\u001b[0;34m(\u001b[0m\u001b[0mROWS\u001b[0m\u001b[0;34m,\u001b[0m \u001b[0mCOLS\u001b[0m\u001b[0;34m,\u001b[0m \u001b[0msymbol_count\u001b[0m\u001b[0;34m)\u001b[0m\u001b[0;34m\u001b[0m\u001b[0;34m\u001b[0m\u001b[0m\n\u001b[0;32m--> 117\u001b[0;31m   \u001b[0mprint_slot_machine\u001b[0m\u001b[0;34m(\u001b[0m\u001b[0mslots\u001b[0m\u001b[0;34m)\u001b[0m\u001b[0;34m\u001b[0m\u001b[0;34m\u001b[0m\u001b[0m\n\u001b[0m\u001b[1;32m    118\u001b[0m   \u001b[0mprint\u001b[0m\u001b[0;34m(\u001b[0m\u001b[0mbalance\u001b[0m\u001b[0;34m,\u001b[0m \u001b[0mlines\u001b[0m\u001b[0;34m,\u001b[0m \u001b[0mbet\u001b[0m\u001b[0;34m,\u001b[0m\u001b[0;34m)\u001b[0m\u001b[0;34m\u001b[0m\u001b[0;34m\u001b[0m\u001b[0m\n\u001b[1;32m    119\u001b[0m \u001b[0;34m\u001b[0m\u001b[0m\n",
            "\u001b[0;32m<ipython-input-18-6f5abac92453>\u001b[0m in \u001b[0;36mprint_slot_machine\u001b[0;34m(columns)\u001b[0m\n\u001b[1;32m     47\u001b[0m \u001b[0;34m\u001b[0m\u001b[0m\n\u001b[1;32m     48\u001b[0m \u001b[0;32mdef\u001b[0m \u001b[0mprint_slot_machine\u001b[0m\u001b[0;34m(\u001b[0m\u001b[0mcolumns\u001b[0m\u001b[0;34m)\u001b[0m\u001b[0;34m:\u001b[0m\u001b[0;34m\u001b[0m\u001b[0;34m\u001b[0m\u001b[0m\n\u001b[0;32m---> 49\u001b[0;31m  \u001b[0;32mfor\u001b[0m \u001b[0mrow\u001b[0m \u001b[0;32min\u001b[0m \u001b[0mrange\u001b[0m\u001b[0;34m(\u001b[0m\u001b[0mlen\u001b[0m\u001b[0;34m(\u001b[0m\u001b[0mcolumns\u001b[0m\u001b[0;34m[\u001b[0m\u001b[0;36m0\u001b[0m\u001b[0;34m]\u001b[0m\u001b[0;34m)\u001b[0m\u001b[0;34m)\u001b[0m\u001b[0;34m:\u001b[0m\u001b[0;34m\u001b[0m\u001b[0;34m\u001b[0m\u001b[0m\n\u001b[0m\u001b[1;32m     50\u001b[0m   \u001b[0;32mfor\u001b[0m \u001b[0mi\u001b[0m\u001b[0;34m,\u001b[0m \u001b[0mcolumn\u001b[0m \u001b[0;32min\u001b[0m \u001b[0menumerate\u001b[0m\u001b[0;34m(\u001b[0m\u001b[0mcolumns\u001b[0m\u001b[0;34m)\u001b[0m\u001b[0;34m:\u001b[0m\u001b[0;34m\u001b[0m\u001b[0;34m\u001b[0m\u001b[0m\n\u001b[1;32m     51\u001b[0m     \u001b[0;32mif\u001b[0m \u001b[0mi\u001b[0m \u001b[0;34m!=\u001b[0m \u001b[0mlen\u001b[0m\u001b[0;34m(\u001b[0m\u001b[0mcolumns\u001b[0m\u001b[0;34m)\u001b[0m \u001b[0;34m-\u001b[0m \u001b[0;36m1\u001b[0m\u001b[0;34m:\u001b[0m\u001b[0;34m\u001b[0m\u001b[0;34m\u001b[0m\u001b[0m\n",
            "\u001b[0;31mTypeError\u001b[0m: 'NoneType' object is not subscriptable"
          ]
        }
      ]
    },
    {
      "cell_type": "code",
      "source": [
        "import random\n",
        "\n",
        "MAX_LINES = 3\n",
        "MAX_BET = 100\n",
        "MIN_BET = 1\n",
        "\n",
        "ROWS = 3\n",
        "COLS = 3\n",
        "\n",
        "symbol_count = {\n",
        "    \"A\": 2,\n",
        "    \"B\": 4,\n",
        "    \"C\": 6,\n",
        "    \"D\": 8\n",
        "}\n",
        "\n",
        "symbol_value = {\n",
        "    \"A\": 5,\n",
        "    \"B\": 4,\n",
        "    \"C\": 3,\n",
        "    \"D\": 2\n",
        "}\n",
        "\n",
        "\n",
        "def check_winnings(columns, lines, bet, values):\n",
        "    winnings = 0\n",
        "    winning_lines = []\n",
        "    for line in range(lines):\n",
        "        symbol = columns[0][line]\n",
        "        for column in columns:\n",
        "            symbol_to_check = column[line]\n",
        "            if symbol != symbol_to_check:\n",
        "                break\n",
        "        else:\n",
        "            winnings += values[symbol] * bet\n",
        "            winning_lines.append(line + 1)\n",
        "\n",
        "    return winnings, winning_lines\n",
        "\n",
        "\n",
        "def get_slot_machine_spin(rows, cols, symbols):\n",
        "    all_symbols = []\n",
        "    for symbol, symbol_count in symbols.items():\n",
        "        for _ in range(symbol_count):\n",
        "            all_symbols.append(symbol)\n",
        "\n",
        "    columns = []\n",
        "    for _ in range(cols):\n",
        "        column = []\n",
        "        current_symbols = all_symbols[:]\n",
        "        for _ in range(rows):\n",
        "            value = random.choice(current_symbols)\n",
        "            current_symbols.remove(value)\n",
        "            column.append(value)\n",
        "\n",
        "        columns.append(column)\n",
        "\n",
        "    return columns\n",
        "\n",
        "\n",
        "def print_slot_machine(columns):\n",
        "    for row in range(len(columns[0])):\n",
        "        for i, column in enumerate(columns):\n",
        "            if i != len(columns) - 1:\n",
        "                print(column[row], end=\" | \")\n",
        "            else:\n",
        "                print(column[row], end=\"\")\n",
        "\n",
        "        print()\n",
        "\n",
        "\n",
        "def deposit():\n",
        "    while True:\n",
        "        amount = input(\"What would you like to deposit? $\")\n",
        "        if amount.isdigit():\n",
        "            amount = int(amount)\n",
        "            if amount > 0:\n",
        "                break\n",
        "            else:\n",
        "                print(\"Amount must be greater than 0.\")\n",
        "        else:\n",
        "            print(\"Please enter a number.\")\n",
        "\n",
        "    return amount\n",
        "\n",
        "\n",
        "def get_number_of_lines():\n",
        "    while True:\n",
        "        lines = input(\n",
        "            \"Enter the number of lines to bet on (1-\" + str(MAX_LINES) + \")? \")\n",
        "        if lines.isdigit():\n",
        "            lines = int(lines)\n",
        "            if 1 <= lines <= MAX_LINES:\n",
        "                break\n",
        "            else:\n",
        "                print(\"Enter a valid number of lines.\")\n",
        "        else:\n",
        "            print(\"Please enter a number.\")\n",
        "\n",
        "    return lines\n",
        "\n",
        "\n",
        "def get_bet():\n",
        "    while True:\n",
        "        amount = input(\"What would you like to bet on each line? $\")\n",
        "        if amount.isdigit():\n",
        "            amount = int(amount)\n",
        "            if MIN_BET <= amount <= MAX_BET:\n",
        "                break\n",
        "            else:\n",
        "                print(f\"Amount must be between ${MIN_BET} - ${MAX_BET}.\")\n",
        "        else:\n",
        "            print(\"Please enter a number.\")\n",
        "\n",
        "    return amount\n",
        "\n",
        "\n",
        "def spin(balance):\n",
        "    lines = get_number_of_lines()\n",
        "    while True:\n",
        "        bet = get_bet()\n",
        "        total_bet = bet * lines\n",
        "\n",
        "        if total_bet > balance:\n",
        "            print(\n",
        "                f\"You do not have enough to bet that amount, your current balance is: ${balance}\")\n",
        "        else:\n",
        "            break\n",
        "\n",
        "    print(\n",
        "        f\"You are betting ${bet} on {lines} lines. Total bet is equal to: ${total_bet}\")\n",
        "\n",
        "    slots = get_slot_machine_spin(ROWS, COLS, symbol_count)\n",
        "    print_slot_machine(slots)\n",
        "    winnings, winning_lines = check_winnings(slots, lines, bet, symbol_value)\n",
        "    print(f\"You won ${winnings}.\")\n",
        "    print(f\"You won on lines:\", *winning_lines)\n",
        "    return winnings - total_bet\n",
        "\n",
        "\n",
        "def main():\n",
        "    balance = deposit()\n",
        "    while True:\n",
        "        print(f\"Current balance is ${balance}\")\n",
        "        answer = input(\"Press enter to play (q to quit).\")\n",
        "        if answer == \"q\":\n",
        "            break\n",
        "        balance += spin(balance)\n",
        "\n",
        "    print(f\"You left with ${balance}\")\n",
        "\n",
        "\n",
        "main()"
      ],
      "metadata": {
        "colab": {
          "base_uri": "https://localhost:8080/",
          "height": 564
        },
        "id": "FglYAgqOojNv",
        "outputId": "f9dd320d-d498-4992-ec76-dd0e3c192898"
      },
      "execution_count": null,
      "outputs": [
        {
          "output_type": "stream",
          "name": "stdout",
          "text": [
            "What would you like to deposit? $50\n",
            "Current balance is $50\n",
            "Press enter to play (q to quit).20\n",
            "Enter the number of lines to bet on (1-3)? 2\n",
            "What would you like to bet on each line? $5\n",
            "You are betting $5 on 2 lines. Total bet is equal to: $10\n",
            "C | D | B\n",
            "D | A | D\n",
            "D | B | D\n",
            "You won $0.\n",
            "You won on lines:\n",
            "Current balance is $40\n"
          ]
        },
        {
          "output_type": "error",
          "ename": "KeyboardInterrupt",
          "evalue": "ignored",
          "traceback": [
            "\u001b[0;31m---------------------------------------------------------------------------\u001b[0m",
            "\u001b[0;31mKeyboardInterrupt\u001b[0m                         Traceback (most recent call last)",
            "\u001b[0;32m<ipython-input-19-285a53ecd3df>\u001b[0m in \u001b[0;36m<cell line: 153>\u001b[0;34m()\u001b[0m\n\u001b[1;32m    151\u001b[0m \u001b[0;34m\u001b[0m\u001b[0m\n\u001b[1;32m    152\u001b[0m \u001b[0;34m\u001b[0m\u001b[0m\n\u001b[0;32m--> 153\u001b[0;31m \u001b[0mmain\u001b[0m\u001b[0;34m(\u001b[0m\u001b[0;34m)\u001b[0m\u001b[0;34m\u001b[0m\u001b[0;34m\u001b[0m\u001b[0m\n\u001b[0m",
            "\u001b[0;32m<ipython-input-19-285a53ecd3df>\u001b[0m in \u001b[0;36mmain\u001b[0;34m()\u001b[0m\n\u001b[1;32m    143\u001b[0m     \u001b[0;32mwhile\u001b[0m \u001b[0;32mTrue\u001b[0m\u001b[0;34m:\u001b[0m\u001b[0;34m\u001b[0m\u001b[0;34m\u001b[0m\u001b[0m\n\u001b[1;32m    144\u001b[0m         \u001b[0mprint\u001b[0m\u001b[0;34m(\u001b[0m\u001b[0;34mf\"Current balance is ${balance}\"\u001b[0m\u001b[0;34m)\u001b[0m\u001b[0;34m\u001b[0m\u001b[0;34m\u001b[0m\u001b[0m\n\u001b[0;32m--> 145\u001b[0;31m         \u001b[0manswer\u001b[0m \u001b[0;34m=\u001b[0m \u001b[0minput\u001b[0m\u001b[0;34m(\u001b[0m\u001b[0;34m\"Press enter to play (q to quit).\"\u001b[0m\u001b[0;34m)\u001b[0m\u001b[0;34m\u001b[0m\u001b[0;34m\u001b[0m\u001b[0m\n\u001b[0m\u001b[1;32m    146\u001b[0m         \u001b[0;32mif\u001b[0m \u001b[0manswer\u001b[0m \u001b[0;34m==\u001b[0m \u001b[0;34m\"q\"\u001b[0m\u001b[0;34m:\u001b[0m\u001b[0;34m\u001b[0m\u001b[0;34m\u001b[0m\u001b[0m\n\u001b[1;32m    147\u001b[0m             \u001b[0;32mbreak\u001b[0m\u001b[0;34m\u001b[0m\u001b[0;34m\u001b[0m\u001b[0m\n",
            "\u001b[0;32m/usr/local/lib/python3.10/dist-packages/ipykernel/kernelbase.py\u001b[0m in \u001b[0;36mraw_input\u001b[0;34m(self, prompt)\u001b[0m\n\u001b[1;32m    849\u001b[0m                 \u001b[0;34m\"raw_input was called, but this frontend does not support input requests.\"\u001b[0m\u001b[0;34m\u001b[0m\u001b[0;34m\u001b[0m\u001b[0m\n\u001b[1;32m    850\u001b[0m             )\n\u001b[0;32m--> 851\u001b[0;31m         return self._input_request(str(prompt),\n\u001b[0m\u001b[1;32m    852\u001b[0m             \u001b[0mself\u001b[0m\u001b[0;34m.\u001b[0m\u001b[0m_parent_ident\u001b[0m\u001b[0;34m,\u001b[0m\u001b[0;34m\u001b[0m\u001b[0;34m\u001b[0m\u001b[0m\n\u001b[1;32m    853\u001b[0m             \u001b[0mself\u001b[0m\u001b[0;34m.\u001b[0m\u001b[0m_parent_header\u001b[0m\u001b[0;34m,\u001b[0m\u001b[0;34m\u001b[0m\u001b[0;34m\u001b[0m\u001b[0m\n",
            "\u001b[0;32m/usr/local/lib/python3.10/dist-packages/ipykernel/kernelbase.py\u001b[0m in \u001b[0;36m_input_request\u001b[0;34m(self, prompt, ident, parent, password)\u001b[0m\n\u001b[1;32m    893\u001b[0m             \u001b[0;32mexcept\u001b[0m \u001b[0mKeyboardInterrupt\u001b[0m\u001b[0;34m:\u001b[0m\u001b[0;34m\u001b[0m\u001b[0;34m\u001b[0m\u001b[0m\n\u001b[1;32m    894\u001b[0m                 \u001b[0;31m# re-raise KeyboardInterrupt, to truncate traceback\u001b[0m\u001b[0;34m\u001b[0m\u001b[0;34m\u001b[0m\u001b[0m\n\u001b[0;32m--> 895\u001b[0;31m                 \u001b[0;32mraise\u001b[0m \u001b[0mKeyboardInterrupt\u001b[0m\u001b[0;34m(\u001b[0m\u001b[0;34m\"Interrupted by user\"\u001b[0m\u001b[0;34m)\u001b[0m \u001b[0;32mfrom\u001b[0m \u001b[0;32mNone\u001b[0m\u001b[0;34m\u001b[0m\u001b[0;34m\u001b[0m\u001b[0m\n\u001b[0m\u001b[1;32m    896\u001b[0m             \u001b[0;32mexcept\u001b[0m \u001b[0mException\u001b[0m \u001b[0;32mas\u001b[0m \u001b[0me\u001b[0m\u001b[0;34m:\u001b[0m\u001b[0;34m\u001b[0m\u001b[0;34m\u001b[0m\u001b[0m\n\u001b[1;32m    897\u001b[0m                 \u001b[0mself\u001b[0m\u001b[0;34m.\u001b[0m\u001b[0mlog\u001b[0m\u001b[0;34m.\u001b[0m\u001b[0mwarning\u001b[0m\u001b[0;34m(\u001b[0m\u001b[0;34m\"Invalid Message:\"\u001b[0m\u001b[0;34m,\u001b[0m \u001b[0mexc_info\u001b[0m\u001b[0;34m=\u001b[0m\u001b[0;32mTrue\u001b[0m\u001b[0;34m)\u001b[0m\u001b[0;34m\u001b[0m\u001b[0;34m\u001b[0m\u001b[0m\n",
            "\u001b[0;31mKeyboardInterrupt\u001b[0m: Interrupted by user"
          ]
        }
      ]
    }
  ],
  "metadata": {
    "colab": {
      "provenance": [],
      "collapsed_sections": [
        "n6oicaVr95CL",
        "Qyrk5a8blx_z"
      ],
      "authorship_tag": "ABX9TyPFihvRipZD3PnY89keYvtp",
      "include_colab_link": true
    },
    "kernelspec": {
      "display_name": "Python 3",
      "name": "python3"
    },
    "language_info": {
      "name": "python"
    }
  },
  "nbformat": 4,
  "nbformat_minor": 0
}